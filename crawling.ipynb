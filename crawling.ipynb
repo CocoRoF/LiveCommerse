{
 "cells": [
  {
   "cell_type": "code",
   "execution_count": 1,
   "metadata": {},
   "outputs": [],
   "source": [
    "import pandas as pd\n",
    "import os\n",
    "import time\n",
    "from bs4 import BeautifulSoup\n",
    "from selenium import webdriver\n",
    "from selenium.webdriver.chrome.options import Options\n",
    "from selenium.webdriver.chrome.service import Service\n",
    "from webdriver_manager.chrome import ChromeDriverManager\n",
    "from util.crawler import *"
   ]
  },
  {
   "cell_type": "code",
   "execution_count": 2,
   "metadata": {},
   "outputs": [
    {
     "data": {
      "text/html": [
       "<div>\n",
       "<style scoped>\n",
       "    .dataframe tbody tr th:only-of-type {\n",
       "        vertical-align: middle;\n",
       "    }\n",
       "\n",
       "    .dataframe tbody tr th {\n",
       "        vertical-align: top;\n",
       "    }\n",
       "\n",
       "    .dataframe thead th {\n",
       "        text-align: right;\n",
       "    }\n",
       "</style>\n",
       "<table border=\"1\" class=\"dataframe\">\n",
       "  <thead>\n",
       "    <tr style=\"text-align: right;\">\n",
       "      <th></th>\n",
       "      <th>플랫폼</th>\n",
       "      <th>방송명</th>\n",
       "      <th>분류</th>\n",
       "      <th>카테고리</th>\n",
       "      <th>방송일자</th>\n",
       "      <th>방송시작시간</th>\n",
       "      <th>조회수</th>\n",
       "      <th>판매량</th>\n",
       "      <th>매출액</th>\n",
       "      <th>상품수</th>\n",
       "      <th>방송정보URL</th>\n",
       "      <th>방송다시보기</th>\n",
       "    </tr>\n",
       "  </thead>\n",
       "  <tbody>\n",
       "    <tr>\n",
       "      <th>0</th>\n",
       "      <td>네이버쇼핑LIVE</td>\n",
       "      <td>[역대급 혜택&amp;신제품] 신학기대전 특집 LIVE</td>\n",
       "      <td>가구/인테리어</td>\n",
       "      <td>서재/사무용가구</td>\n",
       "      <td>2022-02-21</td>\n",
       "      <td>20:00</td>\n",
       "      <td>39322.0</td>\n",
       "      <td>2291.0</td>\n",
       "      <td>784658000.0</td>\n",
       "      <td>10</td>\n",
       "      <td>https://live.ecomm-data.com/report/labang/a79d...</td>\n",
       "      <td>https://view.shoppinglive.naver.com/replays/40...</td>\n",
       "    </tr>\n",
       "    <tr>\n",
       "      <th>1</th>\n",
       "      <td>CJ온스타일</td>\n",
       "      <td>📺브티나는 생활📺 TV에서도! 에싸 최신상 '피에트' 동시론칭 라이브</td>\n",
       "      <td>가구/인테리어</td>\n",
       "      <td>거실가구</td>\n",
       "      <td>2022-10-10</td>\n",
       "      <td>17:20</td>\n",
       "      <td>73730.0</td>\n",
       "      <td>134.0</td>\n",
       "      <td>413985840.0</td>\n",
       "      <td>27</td>\n",
       "      <td>https://live.ecomm-data.com/report/labang/5878...</td>\n",
       "      <td>https://display.cjonstyle.com/m/mlc/main/2629</td>\n",
       "    </tr>\n",
       "    <tr>\n",
       "      <th>2</th>\n",
       "      <td>CJ온스타일</td>\n",
       "      <td>*브티나는생활* 에싸 아르떼 소파</td>\n",
       "      <td>가구/인테리어</td>\n",
       "      <td>거실가구</td>\n",
       "      <td>2022-03-11</td>\n",
       "      <td>20:00</td>\n",
       "      <td>64285.0</td>\n",
       "      <td>126.0</td>\n",
       "      <td>298641600.0</td>\n",
       "      <td>30</td>\n",
       "      <td>https://live.ecomm-data.com/report/labang/adc7...</td>\n",
       "      <td>https://display.cjonstyle.com/m/mlc/main/22022...</td>\n",
       "    </tr>\n",
       "  </tbody>\n",
       "</table>\n",
       "</div>"
      ],
      "text/plain": [
       "         플랫폼                                     방송명       분류      카테고리  \\\n",
       "0  네이버쇼핑LIVE              [역대급 혜택&신제품] 신학기대전 특집 LIVE  가구/인테리어  서재/사무용가구   \n",
       "1     CJ온스타일  📺브티나는 생활📺 TV에서도! 에싸 최신상 '피에트' 동시론칭 라이브  가구/인테리어      거실가구   \n",
       "2     CJ온스타일                      *브티나는생활* 에싸 아르떼 소파  가구/인테리어      거실가구   \n",
       "\n",
       "         방송일자 방송시작시간      조회수     판매량          매출액  상품수  \\\n",
       "0  2022-02-21  20:00  39322.0  2291.0  784658000.0   10   \n",
       "1  2022-10-10  17:20  73730.0   134.0  413985840.0   27   \n",
       "2  2022-03-11  20:00  64285.0   126.0  298641600.0   30   \n",
       "\n",
       "                                             방송정보URL  \\\n",
       "0  https://live.ecomm-data.com/report/labang/a79d...   \n",
       "1  https://live.ecomm-data.com/report/labang/5878...   \n",
       "2  https://live.ecomm-data.com/report/labang/adc7...   \n",
       "\n",
       "                                              방송다시보기  \n",
       "0  https://view.shoppinglive.naver.com/replays/40...  \n",
       "1      https://display.cjonstyle.com/m/mlc/main/2629  \n",
       "2  https://display.cjonstyle.com/m/mlc/main/22022...  "
      ]
     },
     "execution_count": 2,
     "metadata": {},
     "output_type": "execute_result"
    }
   ],
   "source": [
    "data = pd.read_excel('./Data/Total.xlsx')\n",
    "data.head(3)"
   ]
  },
  {
   "cell_type": "code",
   "execution_count": 3,
   "metadata": {},
   "outputs": [],
   "source": [
    "url_list = list(data.방송정보URL)"
   ]
  },
  {
   "cell_type": "code",
   "execution_count": 4,
   "metadata": {},
   "outputs": [
    {
     "name": "stdout",
     "output_type": "stream",
     "text": [
      "Driver Ready. \n",
      " After Login, Run Crawler.\n"
     ]
    }
   ],
   "source": [
    "crawler = Norm_Crawler(list(url_list[0:10]), headless=False, sleep_time=1.5)"
   ]
  },
  {
   "cell_type": "code",
   "execution_count": 5,
   "metadata": {},
   "outputs": [],
   "source": [
    "crawler.run()"
   ]
  },
  {
   "cell_type": "code",
   "execution_count": 6,
   "metadata": {},
   "outputs": [
    {
     "data": {
      "text/plain": [
       "[[<article class=\"Summary_summary__AWDJH\"><div class=\"Summary_row__9uUb5\"><div class=\"Summary_th__GkcDo\"><div>방송정보</div><div class=\"Summary_tooltip__fWbf9\"><i></i></div></div><div class=\"Summary_td_list__8uH9s\"><div class=\"Summary_td__4dMHo\"><div>플랫폼</div><div class=\"Summary_basic__OtouE\">네이버쇼핑LIVE</div></div><div class=\"Summary_td__4dMHo\"><div>방송일</div><div class=\"Summary_basic__OtouE\">2022.02.21 (월)</div></div><div class=\"Summary_td__4dMHo\"><div>시간</div><div class=\"Summary_basic__OtouE\">20:00 - 21:14</div></div></div></div><div class=\"Summary_row__9uUb5\"><div class=\"Summary_th__GkcDo\"><div>참여지표</div><div class=\"Summary_tooltip__fWbf9\"><i></i></div></div><div class=\"Summary_td_list__8uH9s\"><div class=\"Summary_td__4dMHo\"><div>방송조회수</div><div class=\"Summary_colorful__tulfi Summary_gray__I629V\">3.93만</div></div><div class=\"Summary_td__4dMHo\"><div>사전 조회수</div><div class=\"Summary_colorful__tulfi Summary_gray__I629V\">3,492</div></div><div class=\"Summary_td__4dMHo\"><div>분당 평균 유입</div><div class=\"Summary_colorful__tulfi Summary_gray__I629V\">484</div></div></div></div><div class=\"Summary_row__9uUb5\"><div class=\"Summary_th__GkcDo\"><div>구매지표</div><div class=\"Summary_tooltip__fWbf9\"><i></i></div></div><div class=\"Summary_td_list__8uH9s\"><div class=\"Summary_td__4dMHo\"><div>총 매출액(원)</div><div class=\"Summary_colorful__tulfi Summary_gray__I629V\">7.85억</div></div><div class=\"Summary_td__4dMHo\"><div>총판매수(건)</div><div class=\"Summary_colorful__tulfi Summary_gray__I629V\">2,291</div></div><div class=\"Summary_td__4dMHo\"><div>전환율(%)</div><div class=\"Summary_colorful__tulfi Summary_gray__I629V\">6.39</div></div></div></div><div class=\"Summary_row__9uUb5\"><div class=\"Summary_th__GkcDo\"><div>경쟁지표</div><div class=\"Summary_tooltip__fWbf9\"><i></i></div></div><div class=\"Summary_td_list__8uH9s\"><div class=\"Summary_td__4dMHo\"><div>조회수</div><div class=\"Summary_colorful__tulfi Summary_gray__I629V\">상위 4%</div></div><div class=\"Summary_td__4dMHo\"><div>매출</div><div class=\"Summary_colorful__tulfi Summary_gray__I629V\">상위 1%</div></div><div class=\"Summary_td__4dMHo\"><div>판매량</div><div class=\"Summary_colorful__tulfi Summary_gray__I629V\">상위 1%</div></div></div></div><div class=\"Summary_row__9uUb5\"><div class=\"Summary_th__GkcDo\"><div>네이버지표</div><div class=\"Summary_tooltip__fWbf9\"><i></i></div></div><div class=\"Summary_td_list__8uH9s\"><div class=\"Summary_td__4dMHo\"><div>구매고객</div><div class=\"Summary_colorful__tulfi Summary_gray__I629V\">-</div></div><div class=\"Summary_td__4dMHo\"><div>스토어알림 고객</div><div class=\"Summary_colorful__tulfi Summary_gray__I629V\">-</div></div><div class=\"Summary_td__4dMHo\"><div>좋아요</div><div class=\"Summary_colorful__tulfi Summary_gray__I629V\">-</div></div></div></div></article>],\n",
       " [<article class=\"Summary_summary__AWDJH\"><div class=\"Summary_row__9uUb5\"><div class=\"Summary_th__GkcDo\"><div>방송정보</div><div class=\"Summary_tooltip__fWbf9\"><i></i></div></div><div class=\"Summary_td_list__8uH9s\"><div class=\"Summary_td__4dMHo\"><div>플랫폼</div><div class=\"Summary_basic__OtouE\">CJ온스타일</div></div><div class=\"Summary_td__4dMHo\"><div>방송일</div><div class=\"Summary_basic__OtouE\">2022.10.10 (월)</div></div><div class=\"Summary_td__4dMHo\"><div>시간</div><div class=\"Summary_basic__OtouE\">17:20 - 18:37</div></div></div></div><div class=\"Summary_row__9uUb5\"><div class=\"Summary_th__GkcDo\"><div>참여지표</div><div class=\"Summary_tooltip__fWbf9\"><i></i></div></div><div class=\"Summary_td_list__8uH9s\"><div class=\"Summary_td__4dMHo\"><div>방송조회수</div><div class=\"Summary_colorful__tulfi Summary_gray__I629V\">7.37만</div></div><div class=\"Summary_td__4dMHo\"><div>사전 조회수</div><div class=\"Summary_colorful__tulfi Summary_gray__I629V\">1.67만</div></div><div class=\"Summary_td__4dMHo\"><div>분당 평균 유입</div><div class=\"Summary_colorful__tulfi Summary_gray__I629V\">740</div></div></div></div><div class=\"Summary_row__9uUb5\"><div class=\"Summary_th__GkcDo\"><div>구매지표</div><div class=\"Summary_tooltip__fWbf9\"><i></i></div></div><div class=\"Summary_td_list__8uH9s\"><div class=\"Summary_td__4dMHo\"><div>총 매출액(원)</div><div class=\"Summary_colorful__tulfi Summary_gray__I629V\">4.14억</div></div><div class=\"Summary_td__4dMHo\"><div>총판매수(건)</div><div class=\"Summary_colorful__tulfi Summary_gray__I629V\">134</div></div><div class=\"Summary_td__4dMHo\"><div>전환율(%)</div><div class=\"Summary_colorful__tulfi Summary_gray__I629V\">0.23</div></div></div></div><div class=\"Summary_row__9uUb5\"><div class=\"Summary_th__GkcDo\"><div>경쟁지표</div><div class=\"Summary_tooltip__fWbf9\"><i></i></div></div><div class=\"Summary_td_list__8uH9s\"><div class=\"Summary_td__4dMHo\"><div>조회수</div><div class=\"Summary_colorful__tulfi Summary_gray__I629V\">상위 3%</div></div><div class=\"Summary_td__4dMHo\"><div>매출</div><div class=\"Summary_colorful__tulfi Summary_gray__I629V\">상위 1%</div></div><div class=\"Summary_td__4dMHo\"><div>판매량</div><div class=\"Summary_colorful__tulfi Summary_gray__I629V\">상위 8%</div></div></div></div></article>],\n",
       " [<article class=\"Summary_summary__AWDJH\"><div class=\"Summary_row__9uUb5\"><div class=\"Summary_th__GkcDo\"><div>방송정보</div><div class=\"Summary_tooltip__fWbf9\"><i></i></div></div><div class=\"Summary_td_list__8uH9s\"><div class=\"Summary_td__4dMHo\"><div>플랫폼</div><div class=\"Summary_basic__OtouE\">CJ온스타일</div></div><div class=\"Summary_td__4dMHo\"><div>방송일</div><div class=\"Summary_basic__OtouE\">2022.03.11 (금)</div></div><div class=\"Summary_td__4dMHo\"><div>시간</div><div class=\"Summary_basic__OtouE\">20:00 - 21:00</div></div></div></div><div class=\"Summary_row__9uUb5\"><div class=\"Summary_th__GkcDo\"><div>참여지표</div><div class=\"Summary_tooltip__fWbf9\"><i></i></div></div><div class=\"Summary_td_list__8uH9s\"><div class=\"Summary_td__4dMHo\"><div>방송조회수</div><div class=\"Summary_colorful__tulfi Summary_gray__I629V\">6.43만</div></div><div class=\"Summary_td__4dMHo\"><div>사전 조회수</div><div class=\"Summary_colorful__tulfi Summary_gray__I629V\">2,958</div></div><div class=\"Summary_td__4dMHo\"><div>분당 평균 유입</div><div class=\"Summary_colorful__tulfi Summary_gray__I629V\">1,022</div></div></div></div><div class=\"Summary_row__9uUb5\"><div class=\"Summary_th__GkcDo\"><div>구매지표</div><div class=\"Summary_tooltip__fWbf9\"><i></i></div></div><div class=\"Summary_td_list__8uH9s\"><div class=\"Summary_td__4dMHo\"><div>총 매출액(원)</div><div class=\"Summary_colorful__tulfi Summary_gray__I629V\">2.99억</div></div><div class=\"Summary_td__4dMHo\"><div>총판매수(건)</div><div class=\"Summary_colorful__tulfi Summary_gray__I629V\">126</div></div><div class=\"Summary_td__4dMHo\"><div>전환율(%)</div><div class=\"Summary_colorful__tulfi Summary_gray__I629V\">0.21</div></div></div></div><div class=\"Summary_row__9uUb5\"><div class=\"Summary_th__GkcDo\"><div>경쟁지표</div><div class=\"Summary_tooltip__fWbf9\"><i></i></div></div><div class=\"Summary_td_list__8uH9s\"><div class=\"Summary_td__4dMHo\"><div>조회수</div><div class=\"Summary_colorful__tulfi Summary_gray__I629V\">상위 2%</div></div><div class=\"Summary_td__4dMHo\"><div>매출</div><div class=\"Summary_colorful__tulfi Summary_gray__I629V\">상위 1%</div></div><div class=\"Summary_td__4dMHo\"><div>판매량</div><div class=\"Summary_colorful__tulfi Summary_gray__I629V\">상위 11%</div></div></div></div></article>],\n",
       " [<article class=\"Summary_summary__AWDJH\"><div class=\"Summary_row__9uUb5\"><div class=\"Summary_th__GkcDo\"><div>방송정보</div><div class=\"Summary_tooltip__fWbf9\"><i></i></div></div><div class=\"Summary_td_list__8uH9s\"><div class=\"Summary_td__4dMHo\"><div>플랫폼</div><div class=\"Summary_basic__OtouE\">CJ온스타일</div></div><div class=\"Summary_td__4dMHo\"><div>방송일</div><div class=\"Summary_basic__OtouE\">2022.03.06 (일)</div></div><div class=\"Summary_td__4dMHo\"><div>시간</div><div class=\"Summary_basic__OtouE\">20:00 - 21:00</div></div></div></div><div class=\"Summary_row__9uUb5\"><div class=\"Summary_th__GkcDo\"><div>참여지표</div><div class=\"Summary_tooltip__fWbf9\"><i></i></div></div><div class=\"Summary_td_list__8uH9s\"><div class=\"Summary_td__4dMHo\"><div>방송조회수</div><div class=\"Summary_colorful__tulfi Summary_gray__I629V\">9.39만</div></div><div class=\"Summary_td__4dMHo\"><div>사전 조회수</div><div class=\"Summary_colorful__tulfi Summary_gray__I629V\">7,591</div></div><div class=\"Summary_td__4dMHo\"><div>분당 평균 유입</div><div class=\"Summary_colorful__tulfi Summary_gray__I629V\">1,438</div></div></div></div><div class=\"Summary_row__9uUb5\"><div class=\"Summary_th__GkcDo\"><div>구매지표</div><div class=\"Summary_tooltip__fWbf9\"><i></i></div></div><div class=\"Summary_td_list__8uH9s\"><div class=\"Summary_td__4dMHo\"><div>총 매출액(원)</div><div class=\"Summary_colorful__tulfi Summary_gray__I629V\">2.86억</div></div><div class=\"Summary_td__4dMHo\"><div>총판매수(건)</div><div class=\"Summary_colorful__tulfi Summary_gray__I629V\">168</div></div><div class=\"Summary_td__4dMHo\"><div>전환율(%)</div><div class=\"Summary_colorful__tulfi Summary_gray__I629V\">0.19</div></div></div></div><div class=\"Summary_row__9uUb5\"><div class=\"Summary_th__GkcDo\"><div>경쟁지표</div><div class=\"Summary_tooltip__fWbf9\"><i></i></div></div><div class=\"Summary_td_list__8uH9s\"><div class=\"Summary_td__4dMHo\"><div>조회수</div><div class=\"Summary_colorful__tulfi Summary_gray__I629V\">상위 2%</div></div><div class=\"Summary_td__4dMHo\"><div>매출</div><div class=\"Summary_colorful__tulfi Summary_gray__I629V\">상위 1%</div></div><div class=\"Summary_td__4dMHo\"><div>판매량</div><div class=\"Summary_colorful__tulfi Summary_gray__I629V\">상위 10%</div></div></div></div></article>],\n",
       " [<article class=\"Summary_summary__AWDJH\"><div class=\"Summary_row__9uUb5\"><div class=\"Summary_th__GkcDo\"><div>방송정보</div><div class=\"Summary_tooltip__fWbf9\"><i></i></div></div><div class=\"Summary_td_list__8uH9s\"><div class=\"Summary_td__4dMHo\"><div>플랫폼</div><div class=\"Summary_basic__OtouE\">11번가 라이브11</div></div><div class=\"Summary_td__4dMHo\"><div>방송일</div><div class=\"Summary_basic__OtouE\">2022.06.30 (목)</div></div><div class=\"Summary_td__4dMHo\"><div>시간</div><div class=\"Summary_basic__OtouE\">17:00 - 18:00</div></div></div></div><div class=\"Summary_row__9uUb5\"><div class=\"Summary_th__GkcDo\"><div>참여지표</div><div class=\"Summary_tooltip__fWbf9\"><i></i></div></div><div class=\"Summary_td_list__8uH9s\"><div class=\"Summary_td__4dMHo\"><div>방송조회수</div><div class=\"Summary_colorful__tulfi Summary_gray__I629V\">2,536</div></div><div class=\"Summary_td__4dMHo\"><div>사전 조회수</div><div class=\"Summary_colorful__tulfi Summary_gray__I629V\">83</div></div><div class=\"Summary_td__4dMHo\"><div>분당 평균 유입</div><div class=\"Summary_colorful__tulfi Summary_gray__I629V\">40</div></div></div></div><div class=\"Summary_row__9uUb5\"><div class=\"Summary_th__GkcDo\"><div>구매지표</div><div class=\"Summary_tooltip__fWbf9\"><i></i></div></div><div class=\"Summary_td_list__8uH9s\"><div class=\"Summary_td__4dMHo\"><div>총 매출액(원)</div><div class=\"Summary_colorful__tulfi Summary_gray__I629V\">2.66억</div></div><div class=\"Summary_td__4dMHo\"><div>총판매수(건)</div><div class=\"Summary_colorful__tulfi Summary_gray__I629V\">8</div></div><div class=\"Summary_td__4dMHo\"><div>전환율(%)</div><div class=\"Summary_colorful__tulfi Summary_gray__I629V\">0.33</div></div></div></div><div class=\"Summary_row__9uUb5\"><div class=\"Summary_th__GkcDo\"><div>경쟁지표</div><div class=\"Summary_tooltip__fWbf9\"><i></i></div></div><div class=\"Summary_td_list__8uH9s\"><div class=\"Summary_td__4dMHo\"><div>조회수</div><div class=\"Summary_colorful__tulfi Summary_gray__I629V\">상위 17%</div></div><div class=\"Summary_td__4dMHo\"><div>매출</div><div class=\"Summary_colorful__tulfi Summary_gray__I629V\">상위 1%</div></div><div class=\"Summary_td__4dMHo\"><div>판매량</div><div class=\"Summary_colorful__tulfi Summary_gray__I629V\">상위 44%</div></div></div></div></article>],\n",
       " [<article class=\"Summary_summary__AWDJH\"><div class=\"Summary_row__9uUb5\"><div class=\"Summary_th__GkcDo\"><div>방송정보</div><div class=\"Summary_tooltip__fWbf9\"><i></i></div></div><div class=\"Summary_td_list__8uH9s\"><div class=\"Summary_td__4dMHo\"><div>플랫폼</div><div class=\"Summary_basic__OtouE\">CJ온스타일</div></div><div class=\"Summary_td__4dMHo\"><div>방송일</div><div class=\"Summary_basic__OtouE\">2022.10.04 (화)</div></div><div class=\"Summary_td__4dMHo\"><div>시간</div><div class=\"Summary_basic__OtouE\">20:00 - 22:00</div></div></div></div><div class=\"Summary_row__9uUb5\"><div class=\"Summary_th__GkcDo\"><div>참여지표</div><div class=\"Summary_tooltip__fWbf9\"><i></i></div></div><div class=\"Summary_td_list__8uH9s\"><div class=\"Summary_td__4dMHo\"><div>방송조회수</div><div class=\"Summary_colorful__tulfi Summary_gray__I629V\">8.52만</div></div><div class=\"Summary_td__4dMHo\"><div>사전 조회수</div><div class=\"Summary_colorful__tulfi Summary_gray__I629V\">1.81만</div></div><div class=\"Summary_td__4dMHo\"><div>분당 평균 유입</div><div class=\"Summary_colorful__tulfi Summary_gray__I629V\">558</div></div></div></div><div class=\"Summary_row__9uUb5\"><div class=\"Summary_th__GkcDo\"><div>구매지표</div><div class=\"Summary_tooltip__fWbf9\"><i></i></div></div><div class=\"Summary_td_list__8uH9s\"><div class=\"Summary_td__4dMHo\"><div>총 매출액(원)</div><div class=\"Summary_colorful__tulfi Summary_gray__I629V\">2.54억</div></div><div class=\"Summary_td__4dMHo\"><div>총판매수(건)</div><div class=\"Summary_colorful__tulfi Summary_gray__I629V\">135</div></div><div class=\"Summary_td__4dMHo\"><div>전환율(%)</div><div class=\"Summary_colorful__tulfi Summary_gray__I629V\">0.20</div></div></div></div><div class=\"Summary_row__9uUb5\"><div class=\"Summary_th__GkcDo\"><div>경쟁지표</div><div class=\"Summary_tooltip__fWbf9\"><i></i></div></div><div class=\"Summary_td_list__8uH9s\"><div class=\"Summary_td__4dMHo\"><div>조회수</div><div class=\"Summary_colorful__tulfi Summary_gray__I629V\">상위 3%</div></div><div class=\"Summary_td__4dMHo\"><div>매출</div><div class=\"Summary_colorful__tulfi Summary_gray__I629V\">상위 1%</div></div><div class=\"Summary_td__4dMHo\"><div>판매량</div><div class=\"Summary_colorful__tulfi Summary_gray__I629V\">상위 8%</div></div></div></div></article>],\n",
       " [<article class=\"Summary_summary__AWDJH\"><div class=\"Summary_row__9uUb5\"><div class=\"Summary_th__GkcDo\"><div>방송정보</div><div class=\"Summary_tooltip__fWbf9\"><i></i></div></div><div class=\"Summary_td_list__8uH9s\"><div class=\"Summary_td__4dMHo\"><div>플랫폼</div><div class=\"Summary_basic__OtouE\">네이버쇼핑LIVE</div></div><div class=\"Summary_td__4dMHo\"><div>방송일</div><div class=\"Summary_basic__OtouE\">2022.10.30 (일)</div></div><div class=\"Summary_td__4dMHo\"><div>시간</div><div class=\"Summary_basic__OtouE\">20:00 - 21:13</div></div></div></div><div class=\"Summary_row__9uUb5\"><div class=\"Summary_th__GkcDo\"><div>참여지표</div><div class=\"Summary_tooltip__fWbf9\"><i></i></div></div><div class=\"Summary_td_list__8uH9s\"><div class=\"Summary_td__4dMHo\"><div>방송조회수</div><div class=\"Summary_colorful__tulfi Summary_gray__I629V\">3,639</div></div><div class=\"Summary_td__4dMHo\"><div>사전 조회수</div><div class=\"Summary_colorful__tulfi Summary_gray__I629V\">768</div></div><div class=\"Summary_td__4dMHo\"><div>분당 평균 유입</div><div class=\"Summary_colorful__tulfi Summary_gray__I629V\">39</div></div></div></div><div class=\"Summary_row__9uUb5\"><div class=\"Summary_th__GkcDo\"><div>구매지표</div><div class=\"Summary_tooltip__fWbf9\"><i></i></div></div><div class=\"Summary_td_list__8uH9s\"><div class=\"Summary_td__4dMHo\"><div>총 매출액(원)</div><div class=\"Summary_colorful__tulfi Summary_gray__I629V\">2.49억</div></div><div class=\"Summary_td__4dMHo\"><div>총판매수(건)</div><div class=\"Summary_colorful__tulfi Summary_gray__I629V\">163</div></div><div class=\"Summary_td__4dMHo\"><div>전환율(%)</div><div class=\"Summary_colorful__tulfi Summary_gray__I629V\">5.68</div></div></div></div><div class=\"Summary_row__9uUb5\"><div class=\"Summary_th__GkcDo\"><div>경쟁지표</div><div class=\"Summary_tooltip__fWbf9\"><i></i></div></div><div class=\"Summary_td_list__8uH9s\"><div class=\"Summary_td__4dMHo\"><div>조회수</div><div class=\"Summary_colorful__tulfi Summary_gray__I629V\">상위 13%</div></div><div class=\"Summary_td__4dMHo\"><div>매출</div><div class=\"Summary_colorful__tulfi Summary_gray__I629V\">상위 1%</div></div><div class=\"Summary_td__4dMHo\"><div>판매량</div><div class=\"Summary_colorful__tulfi Summary_gray__I629V\">상위 7%</div></div></div></div><div class=\"Summary_row__9uUb5\"><div class=\"Summary_th__GkcDo\"><div>네이버지표</div><div class=\"Summary_tooltip__fWbf9\"><i></i></div></div><div class=\"Summary_td_list__8uH9s\"><div class=\"Summary_td__4dMHo\"><div>구매고객</div><div class=\"Summary_colorful__tulfi Summary_gray__I629V\">-</div></div><div class=\"Summary_td__4dMHo\"><div>스토어알림 고객</div><div class=\"Summary_colorful__tulfi Summary_gray__I629V\">-</div></div><div class=\"Summary_td__4dMHo\"><div>좋아요</div><div class=\"Summary_colorful__tulfi Summary_gray__I629V\">-</div></div></div></div></article>],\n",
       " [<article class=\"Summary_summary__AWDJH\"><div class=\"Summary_row__9uUb5\"><div class=\"Summary_th__GkcDo\"><div>방송정보</div><div class=\"Summary_tooltip__fWbf9\"><i></i></div></div><div class=\"Summary_td_list__8uH9s\"><div class=\"Summary_td__4dMHo\"><div>플랫폼</div><div class=\"Summary_basic__OtouE\">CJ온스타일</div></div><div class=\"Summary_td__4dMHo\"><div>방송일</div><div class=\"Summary_basic__OtouE\">2022.06.09 (목)</div></div><div class=\"Summary_td__4dMHo\"><div>시간</div><div class=\"Summary_basic__OtouE\">20:00 - 21:00</div></div></div></div><div class=\"Summary_row__9uUb5\"><div class=\"Summary_th__GkcDo\"><div>참여지표</div><div class=\"Summary_tooltip__fWbf9\"><i></i></div></div><div class=\"Summary_td_list__8uH9s\"><div class=\"Summary_td__4dMHo\"><div>방송조회수</div><div class=\"Summary_colorful__tulfi Summary_gray__I629V\">4.48만</div></div><div class=\"Summary_td__4dMHo\"><div>사전 조회수</div><div class=\"Summary_colorful__tulfi Summary_gray__I629V\">3,808</div></div><div class=\"Summary_td__4dMHo\"><div>분당 평균 유입</div><div class=\"Summary_colorful__tulfi Summary_gray__I629V\">682</div></div></div></div><div class=\"Summary_row__9uUb5\"><div class=\"Summary_th__GkcDo\"><div>구매지표</div><div class=\"Summary_tooltip__fWbf9\"><i></i></div></div><div class=\"Summary_td_list__8uH9s\"><div class=\"Summary_td__4dMHo\"><div>총 매출액(원)</div><div class=\"Summary_colorful__tulfi Summary_gray__I629V\">2.25억</div></div><div class=\"Summary_td__4dMHo\"><div>총판매수(건)</div><div class=\"Summary_colorful__tulfi Summary_gray__I629V\">1,538</div></div><div class=\"Summary_td__4dMHo\"><div>전환율(%)</div><div class=\"Summary_colorful__tulfi Summary_gray__I629V\">3.76</div></div></div></div><div class=\"Summary_row__9uUb5\"><div class=\"Summary_th__GkcDo\"><div>경쟁지표</div><div class=\"Summary_tooltip__fWbf9\"><i></i></div></div><div class=\"Summary_td_list__8uH9s\"><div class=\"Summary_td__4dMHo\"><div>조회수</div><div class=\"Summary_colorful__tulfi Summary_gray__I629V\">상위 3%</div></div><div class=\"Summary_td__4dMHo\"><div>매출</div><div class=\"Summary_colorful__tulfi Summary_gray__I629V\">상위 1%</div></div><div class=\"Summary_td__4dMHo\"><div>판매량</div><div class=\"Summary_colorful__tulfi Summary_gray__I629V\">상위 1%</div></div></div></div></article>],\n",
       " [<article class=\"Summary_summary__AWDJH\"><div class=\"Summary_row__9uUb5\"><div class=\"Summary_th__GkcDo\"><div>방송정보</div><div class=\"Summary_tooltip__fWbf9\"><i></i></div></div><div class=\"Summary_td_list__8uH9s\"><div class=\"Summary_td__4dMHo\"><div>플랫폼</div><div class=\"Summary_basic__OtouE\">네이버쇼핑LIVE</div></div><div class=\"Summary_td__4dMHo\"><div>방송일</div><div class=\"Summary_basic__OtouE\">2022.06.26 (일)</div></div><div class=\"Summary_td__4dMHo\"><div>시간</div><div class=\"Summary_basic__OtouE\">20:00 - 21:13</div></div></div></div><div class=\"Summary_row__9uUb5\"><div class=\"Summary_th__GkcDo\"><div>참여지표</div><div class=\"Summary_tooltip__fWbf9\"><i></i></div></div><div class=\"Summary_td_list__8uH9s\"><div class=\"Summary_td__4dMHo\"><div>방송조회수</div><div class=\"Summary_colorful__tulfi Summary_gray__I629V\">3,385</div></div><div class=\"Summary_td__4dMHo\"><div>사전 조회수</div><div class=\"Summary_colorful__tulfi Summary_gray__I629V\">1,134</div></div><div class=\"Summary_td__4dMHo\"><div>분당 평균 유입</div><div class=\"Summary_colorful__tulfi Summary_gray__I629V\">30</div></div></div></div><div class=\"Summary_row__9uUb5\"><div class=\"Summary_th__GkcDo\"><div>구매지표</div><div class=\"Summary_tooltip__fWbf9\"><i></i></div></div><div class=\"Summary_td_list__8uH9s\"><div class=\"Summary_td__4dMHo\"><div>총 매출액(원)</div><div class=\"Summary_colorful__tulfi Summary_gray__I629V\">2.09억</div></div><div class=\"Summary_td__4dMHo\"><div>총판매수(건)</div><div class=\"Summary_colorful__tulfi Summary_gray__I629V\">206</div></div><div class=\"Summary_td__4dMHo\"><div>전환율(%)</div><div class=\"Summary_colorful__tulfi Summary_gray__I629V\">9.15</div></div></div></div><div class=\"Summary_row__9uUb5\"><div class=\"Summary_th__GkcDo\"><div>경쟁지표</div><div class=\"Summary_tooltip__fWbf9\"><i></i></div></div><div class=\"Summary_td_list__8uH9s\"><div class=\"Summary_td__4dMHo\"><div>조회수</div><div class=\"Summary_colorful__tulfi Summary_gray__I629V\">상위 14%</div></div><div class=\"Summary_td__4dMHo\"><div>매출</div><div class=\"Summary_colorful__tulfi Summary_gray__I629V\">상위 1%</div></div><div class=\"Summary_td__4dMHo\"><div>판매량</div><div class=\"Summary_colorful__tulfi Summary_gray__I629V\">상위 6%</div></div></div></div><div class=\"Summary_row__9uUb5\"><div class=\"Summary_th__GkcDo\"><div>네이버지표</div><div class=\"Summary_tooltip__fWbf9\"><i></i></div></div><div class=\"Summary_td_list__8uH9s\"><div class=\"Summary_td__4dMHo\"><div>구매고객</div><div class=\"Summary_colorful__tulfi Summary_gray__I629V\">-</div></div><div class=\"Summary_td__4dMHo\"><div>스토어알림 고객</div><div class=\"Summary_colorful__tulfi Summary_gray__I629V\">-</div></div><div class=\"Summary_td__4dMHo\"><div>좋아요</div><div class=\"Summary_colorful__tulfi Summary_gray__I629V\">-</div></div></div></div></article>],\n",
       " [<article class=\"Summary_summary__AWDJH\"><div class=\"Summary_row__9uUb5\"><div class=\"Summary_th__GkcDo\"><div>방송정보</div><div class=\"Summary_tooltip__fWbf9\"><i></i></div></div><div class=\"Summary_td_list__8uH9s\"><div class=\"Summary_td__4dMHo\"><div>플랫폼</div><div class=\"Summary_basic__OtouE\">네이버쇼핑LIVE</div></div><div class=\"Summary_td__4dMHo\"><div>방송일</div><div class=\"Summary_basic__OtouE\">2022.02.22 (화)</div></div><div class=\"Summary_td__4dMHo\"><div>시간</div><div class=\"Summary_basic__OtouE\">20:00 - 21:09</div></div></div></div><div class=\"Summary_row__9uUb5\"><div class=\"Summary_th__GkcDo\"><div>참여지표</div><div class=\"Summary_tooltip__fWbf9\"><i></i></div></div><div class=\"Summary_td_list__8uH9s\"><div class=\"Summary_td__4dMHo\"><div>방송조회수</div><div class=\"Summary_colorful__tulfi Summary_gray__I629V\">9,571</div></div><div class=\"Summary_td__4dMHo\"><div>사전 조회수</div><div class=\"Summary_colorful__tulfi Summary_gray__I629V\">5,086</div></div><div class=\"Summary_td__4dMHo\"><div>분당 평균 유입</div><div class=\"Summary_colorful__tulfi Summary_gray__I629V\">65</div></div></div></div><div class=\"Summary_row__9uUb5\"><div class=\"Summary_th__GkcDo\"><div>구매지표</div><div class=\"Summary_tooltip__fWbf9\"><i></i></div></div><div class=\"Summary_td_list__8uH9s\"><div class=\"Summary_td__4dMHo\"><div>총 매출액(원)</div><div class=\"Summary_colorful__tulfi Summary_gray__I629V\">2억</div></div><div class=\"Summary_td__4dMHo\"><div>총판매수(건)</div><div class=\"Summary_colorful__tulfi Summary_gray__I629V\">520</div></div><div class=\"Summary_td__4dMHo\"><div>전환율(%)</div><div class=\"Summary_colorful__tulfi Summary_gray__I629V\">11.59</div></div></div></div><div class=\"Summary_row__9uUb5\"><div class=\"Summary_th__GkcDo\"><div>경쟁지표</div><div class=\"Summary_tooltip__fWbf9\"><i></i></div></div><div class=\"Summary_td_list__8uH9s\"><div class=\"Summary_td__4dMHo\"><div>조회수</div><div class=\"Summary_colorful__tulfi Summary_gray__I629V\">상위 12%</div></div><div class=\"Summary_td__4dMHo\"><div>매출</div><div class=\"Summary_colorful__tulfi Summary_gray__I629V\">상위 1%</div></div><div class=\"Summary_td__4dMHo\"><div>판매량</div><div class=\"Summary_colorful__tulfi Summary_gray__I629V\">상위 4%</div></div></div></div><div class=\"Summary_row__9uUb5\"><div class=\"Summary_th__GkcDo\"><div>네이버지표</div><div class=\"Summary_tooltip__fWbf9\"><i></i></div></div><div class=\"Summary_td_list__8uH9s\"><div class=\"Summary_td__4dMHo\"><div>구매고객</div><div class=\"Summary_colorful__tulfi Summary_gray__I629V\">-</div></div><div class=\"Summary_td__4dMHo\"><div>스토어알림 고객</div><div class=\"Summary_colorful__tulfi Summary_gray__I629V\">-</div></div><div class=\"Summary_td__4dMHo\"><div>좋아요</div><div class=\"Summary_colorful__tulfi Summary_gray__I629V\">-</div></div></div></div></article>]]"
      ]
     },
     "execution_count": 6,
     "metadata": {},
     "output_type": "execute_result"
    }
   ],
   "source": [
    "crawler.select_soup(selection = 'article.Summary_summary__AWDJH', show = True)"
   ]
  },
  {
   "cell_type": "code",
   "execution_count": 7,
   "metadata": {},
   "outputs": [
    {
     "name": "stdout",
     "output_type": "stream",
     "text": [
      "Cutting Done. Number of Dataset = 10\n"
     ]
    }
   ],
   "source": [
    "Run_time = crawler.cutting(start_str = '<div>시간</div><div class=\"Summary_basic__OtouE\">', end_str = '</div></div></div></div><div class=\"Summary_row__9uUb5\"><div class=\"Summary_th__GkcDo\"><div>참여지표</div><div class=', show=True)"
   ]
  },
  {
   "cell_type": "code",
   "execution_count": 8,
   "metadata": {},
   "outputs": [
    {
     "data": {
      "text/plain": [
       "[['20:00 - 21:14'],\n",
       " ['17:20 - 18:37'],\n",
       " ['20:00 - 21:00'],\n",
       " ['20:00 - 21:00'],\n",
       " ['17:00 - 18:00'],\n",
       " ['20:00 - 22:00'],\n",
       " ['20:00 - 21:13'],\n",
       " ['20:00 - 21:00'],\n",
       " ['20:00 - 21:13'],\n",
       " ['20:00 - 21:09']]"
      ]
     },
     "execution_count": 8,
     "metadata": {},
     "output_type": "execute_result"
    }
   ],
   "source": [
    "Run_time"
   ]
  }
 ],
 "metadata": {
  "kernelspec": {
   "display_name": "base",
   "language": "python",
   "name": "python3"
  },
  "language_info": {
   "codemirror_mode": {
    "name": "ipython",
    "version": 3
   },
   "file_extension": ".py",
   "mimetype": "text/x-python",
   "name": "python",
   "nbconvert_exporter": "python",
   "pygments_lexer": "ipython3",
   "version": "3.10.9"
  },
  "orig_nbformat": 4
 },
 "nbformat": 4,
 "nbformat_minor": 2
}
