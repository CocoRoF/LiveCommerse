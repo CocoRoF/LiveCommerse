{
 "cells": [
  {
   "cell_type": "code",
   "execution_count": 1,
   "metadata": {},
   "outputs": [],
   "source": [
    "import pandas as pd\n",
    "import os"
   ]
  },
  {
   "cell_type": "code",
   "execution_count": 10,
   "metadata": {},
   "outputs": [
    {
     "name": "stdout",
     "output_type": "stream",
     "text": [
      "./라방바/가구&인테리어\n",
      "./라방바/도서\n",
      "./라방바/디지털&가전\n",
      "./라방바/생활&건강\n",
      "./라방바/스포츠&레져\n",
      "./라방바/식품\n",
      "./라방바/여가&생활편의\n",
      "./라방바/출산&육아\n",
      "./라방바/패션의류\n",
      "./라방바/패션잡화\n",
      "./라방바/화장품&미용\n"
     ]
    }
   ],
   "source": [
    "data_path_list = os.listdir('./라방바')\n",
    "\n",
    "for i in data_path_list:\n",
    "    data_path = (f'./라방바/{i}')\n",
    "    data_list = os.listdir(data_path)\n",
    "    print(data_path)\n",
    "    \n",
    "    total_data = pd.DataFrame()\n",
    "    for j in data_list:\n",
    "        temp_df = pd.read_excel(f'{data_path}/{j}')\n",
    "        total_data = pd.concat([total_data, temp_df], ignore_index=True)\n",
    "    \n",
    "    total_data.to_excel(f'./Total/total_{i}.xlsx', index=False)"
   ]
  },
  {
   "cell_type": "code",
   "execution_count": 12,
   "metadata": {},
   "outputs": [],
   "source": [
    "total_list = os.listdir('./Total/')\n",
    "\n",
    "total_data = pd.DataFrame()\n",
    "for i in total_list:\n",
    "    temp_df = pd.read_excel(f'./Total/{i}')\n",
    "    total_data = pd.concat([total_data, temp_df], ignore_index=True)\n",
    "    \n",
    "total_data.to_excel(f'./Total.xlsx', index=False)"
   ]
  },
  {
   "cell_type": "code",
   "execution_count": null,
   "metadata": {},
   "outputs": [],
   "source": []
  }
 ],
 "metadata": {
  "kernelspec": {
   "display_name": "base",
   "language": "python",
   "name": "python3"
  },
  "language_info": {
   "codemirror_mode": {
    "name": "ipython",
    "version": 3
   },
   "file_extension": ".py",
   "mimetype": "text/x-python",
   "name": "python",
   "nbconvert_exporter": "python",
   "pygments_lexer": "ipython3",
   "version": "3.10.9"
  },
  "orig_nbformat": 4
 },
 "nbformat": 4,
 "nbformat_minor": 2
}
